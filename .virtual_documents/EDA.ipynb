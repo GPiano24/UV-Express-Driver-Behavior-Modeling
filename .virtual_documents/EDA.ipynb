import pandas as pd
import numpy as np
import matplotlib.pyplot as plt
import seaborn as sns


df = pd.read_csv('peak.csv')

df["Timestamp"] = pd.to_datetime(df["Timestamp"], format="%H:%M:%S")

df["Observed State"] = df["Observed State"].str.capitalize()


plt.figure(figsize=(12, 6))
sns.countplot(data=df, x="Observed State", order=df["Observed State"].value_counts().index)
plt.title("Frequency of Observed States")
plt.xticks(rotation=45)
plt.show()
state_counts = df["Observed State"].value_counts()
print(state_counts)

plt.figure(figsize=(12, 6))
sns.countplot(data=df, x="Hidden State", order=df["Hidden State"].value_counts().index)
plt.title("Frequency of Hidden States")
plt.show()
hidden_state_counts = df["Hidden State"].value_counts()
print("Hidden State Counts:\n", hidden_state_counts)

# # Duration of each state
# plt.figure(figsize=(12, 6))
# state_duration.plot(kind='bar')
# plt.title("Duration of Each Observed State")
# plt.ylabel("Duration (seconds)")
# plt.show()



df["Next Observed State"] = df["Observed State"].shift(-1)

df = df.dropna()

transition_matrix = pd.crosstab(df["Observed State"], df["Next Observed State"], normalize='index')

plt.figure(figsize=(12, 8))
sns.heatmap(transition_matrix, annot=True, cmap="coolwarm", cbar=True)
plt.title("State Transition Matrix")
plt.show()


df["Next Hidden State"] = df["Hidden State"].shift(-1)

df = df.dropna()

hidden_state_transition_matrix = pd.crosstab(df["Hidden State"], df["Next Hidden State"], normalize='index')

plt.figure(figsize=(10, 8))
sns.heatmap(hidden_state_transition_matrix, annot=True, cmap="coolwarm", cbar=True)
plt.title("Hidden State Transition Matrix")
plt.xlabel("Next Hidden State")
plt.ylabel("Current Hidden State")
plt.show()


hidden_to_observed_matrix = pd.crosstab(df["Hidden State"], df["Observed State"], normalize='index')

plt.figure(figsize=(12, 8))
sns.heatmap(hidden_to_observed_matrix, annot=True, cmap="coolwarm", cbar=True)
plt.title("Hidden State to Observable State Transition Matrix")
plt.xlabel("Observable State")
plt.ylabel("Hidden State")
plt.show()


df = pd.read_csv('non_peak.csv')

df["Timestamp"] = pd.to_datetime(df["Timestamp"], format="%H:%M:%S")

df["Observed State"] = df["Observed State"].str.capitalize()


plt.figure(figsize=(12, 6))
sns.countplot(data=df, x="Observed State", order=df["Observed State"].value_counts().index)
plt.title("Frequency of Observed States")
plt.xticks(rotation=45)
plt.show()
state_counts = df["Observed State"].value_counts()
print(state_counts)

plt.figure(figsize=(12, 6))
sns.countplot(data=df, x="Hidden State", order=df["Hidden State"].value_counts().index)
plt.title("Frequency of Hidden States")
plt.show()
hidden_state_counts = df["Hidden State"].value_counts()
print("Hidden State Counts:\n", hidden_state_counts)


df["Next Observed State"] = df["Observed State"].shift(-1)

df = df.dropna()

transition_matrix = pd.crosstab(df["Observed State"], df["Next Observed State"], normalize='index')

plt.figure(figsize=(12, 8))
sns.heatmap(transition_matrix, annot=True, cmap="coolwarm", cbar=True)
plt.title("State Transition Matrix")
plt.show()


df["Next Hidden State"] = df["Hidden State"].shift(-1)

df = df.dropna()

hidden_state_transition_matrix = pd.crosstab(df["Hidden State"], df["Next Hidden State"], normalize='index')

plt.figure(figsize=(10, 8))
sns.heatmap(hidden_state_transition_matrix, annot=True, cmap="coolwarm", cbar=True)
plt.title("Hidden State Transition Matrix")
plt.xlabel("Next Hidden State")
plt.ylabel("Current Hidden State")
plt.show()


hidden_to_observed_matrix = pd.crosstab(df["Hidden State"], df["Observed State"], normalize='index')

plt.figure(figsize=(12, 8))
sns.heatmap(hidden_to_observed_matrix, annot=True, cmap="coolwarm", cbar=True)
plt.title("Hidden State to Observable State Transition Matrix")
plt.xlabel("Observable State")
plt.ylabel("Hidden State")
plt.show()
