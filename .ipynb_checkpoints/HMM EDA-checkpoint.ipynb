{
 "cells": [
  {
   "cell_type": "markdown",
   "id": "79b73453-452f-4e06-a946-59ac831abaae",
   "metadata": {},
   "source": [
    "# UV Driver Behavior Modeling Using HMM"
   ]
  },
  {
   "cell_type": "markdown",
   "id": "e52cb52d-8ae3-4834-9736-9cc9a339a2d3",
   "metadata": {},
   "source": [
    "## Import Dependencies"
   ]
  },
  {
   "cell_type": "code",
   "execution_count": 1,
   "id": "bc4e1ac4-5406-4745-ba35-8c8b000392f8",
   "metadata": {},
   "outputs": [],
   "source": [
    "import re\n",
    "import statistics\n",
    "import numpy as np\n",
    "import matplotlib.pyplot as plt\n",
    "import itertools\n",
    "import operator\n",
    "from hmmlearn import hmm\n",
    "from datetime import datetime\n",
    "from pandas import DataFrame\n",
    "from hmmlearn.hmm import GaussianHMM\n",
    "from matplotlib import cm, pyplot as plt\n",
    "np.random.seed(1)"
   ]
  },
  {
   "cell_type": "markdown",
   "id": "4927f370-6943-4bd1-a540-939b25ff7dbe",
   "metadata": {},
   "source": [
    "## Training the Hidden Markov Model"
   ]
  },
  {
   "cell_type": "markdown",
   "id": "40fe2202-d071-45c4-a61d-b464b8491aa2",
   "metadata": {},
   "source": [
    "### Create List of Possible Hidden States"
   ]
  },
  {
   "cell_type": "code",
   "execution_count": 2,
   "id": "0868cd03-643b-484e-b597-2826ed813070",
   "metadata": {},
   "outputs": [],
   "source": [
    "states = ['Passenger', 'Vehicle', 'Stoplight']\n",
    "n_states = len(states)"
   ]
  },
  {
   "cell_type": "markdown",
   "id": "38fc9453-7b14-44f3-89fe-ce390d122c06",
   "metadata": {},
   "source": [
    "### Create a List of Possible Observable States "
   ]
  },
  {
   "cell_type": "code",
   "execution_count": 3,
   "id": "54ed69d2-91fd-4e18-974b-a53bd76de118",
   "metadata": {},
   "outputs": [],
   "source": [
    "# Oberservable states\n",
    "observations = ['ChangeLaneLeft', 'ChangeLaneRight', 'Stop', 'Go', 'Load', 'Unload']"
   ]
  },
  {
   "cell_type": "markdown",
   "id": "acc26ea9-b9c3-4595-8a8e-070215b8ce1e",
   "metadata": {},
   "source": [
    "### Load Collected Data"
   ]
  },
  {
   "cell_type": "code",
   "execution_count": 4,
   "id": "c64d547c-d43d-49c6-8adf-9a6c53dc0795",
   "metadata": {},
   "outputs": [],
   "source": [
    "# Load event file\n",
    "my_file = open('data.csv', 'r', encoding='utf-8-sig')\n",
    "# Get everything from file\n",
    "observed_states = [] # Passenger, Vehicle, Stoplight\n",
    "observed_state_changes = [] # P (Passenger), V (Vehicle), S (Stoplight), N = No Change, this takes note of the changes\n",
    "observed_events = [] # Order of annotated events\n",
    "\n",
    "for line in my_file:\n",
    "    l = [i.strip() for i in line.split(',')]\n",
    "    observed_states.append(l[0]) # i.e. ['Passenger', 'P', 'Stop', datetime], l[0] = states, l[1] = state (if changed/observed_no change), \n",
    "    observed_state_changes.append(l[1]) # l[2] = event\n",
    "    observed_events.append(l[2])"
   ]
  },
  {
   "cell_type": "markdown",
   "id": "85140d08-1243-4dcc-9ebb-57f839a75c6b",
   "metadata": {},
   "source": [
    "### Calculate State Probability"
   ]
  },
  {
   "cell_type": "code",
   "execution_count": 5,
   "id": "42a986cb-4d08-45a9-b369-7e6551159759",
   "metadata": {},
   "outputs": [
    {
     "name": "stdout",
     "output_type": "stream",
     "text": [
      "Start probabilities\n",
      "0.25586854460093894 0.643661971830986 0.10046948356807511\n"
     ]
    }
   ],
   "source": [
    "# sp = start probability\n",
    "total_count = len(observed_states)\n",
    "sp_passenger = observed_states.count('Passenger') / total_count\n",
    "sp_vehicle = observed_states.count('Vehicle') / total_count\n",
    "sp_stoplight = observed_states.count('Stoplight') / total_count\n",
    "\n",
    "print('Start probabilities')\n",
    "print(sp_passenger, sp_vehicle, sp_stoplight)\n",
    "state_probability = np.array([sp_passenger, sp_vehicle, sp_stoplight])"
   ]
  },
  {
   "cell_type": "markdown",
   "id": "e8cfa76a-2a9a-464e-9ffa-ed6bac2ecb8a",
   "metadata": {},
   "source": [
    "### Convert State Changes to Transition States "
   ]
  },
  {
   "cell_type": "code",
   "execution_count": 6,
   "id": "b83bb4ab-343e-402f-ba9a-759c61c83ce9",
   "metadata": {},
   "outputs": [],
   "source": [
    "# Convert state_changes to transition state i.e. change S N N N N S to SS, SV, VP, etc.\n",
    "temp = ''\n",
    "transition_state = []\n",
    "for cur_state in observed_state_changes:\n",
    "    if temp == '':\n",
    "        temp = cur_state\n",
    "    else:\n",
    "        if cur_state != 'N':\n",
    "            word = temp+cur_state\n",
    "            transition_state.append(word)\n",
    "            temp = cur_state"
   ]
  },
  {
   "cell_type": "markdown",
   "id": "95a6e51b-1e87-4cca-9228-db1cc33617fd",
   "metadata": {},
   "source": [
    "### Calculate Transition Probabilities"
   ]
  },
  {
   "cell_type": "code",
   "execution_count": 7,
   "id": "65cb2570-3792-4635-99f8-7b3b32b8cecd",
   "metadata": {},
   "outputs": [],
   "source": [
    "# tp = transition probability \n",
    "# p = passenger, v = vehicle, s = stoplight\n",
    "# pp = passenger x passenger, pv = passenger x vehicle, ps = passenger x stoplight\n",
    "total_transition = len(transition_state)\n",
    "total_p = transition_state.count('PP') + transition_state.count('PV') + transition_state.count('PS')\n",
    "total_v = transition_state.count('VP') + transition_state.count('VV') + transition_state.count('VS')\n",
    "total_s = transition_state.count('SP') + transition_state.count('SV') + transition_state.count('SS')\n",
    "\n",
    "# transition probability for p\n",
    "tp_pp = transition_state.count('PP') / total_p\n",
    "tp_pv = transition_state.count('PV') / total_p\n",
    "tp_ps = transition_state.count('PS') / total_p\n",
    "\n",
    "# transition probability for v\n",
    "tp_vp = transition_state.count('VP') / total_v\n",
    "tp_vv = transition_state.count('VV') / total_v\n",
    "tp_vs = transition_state.count('VS') / total_v\n",
    "\n",
    "# transition probability for s\n",
    "tp_sp = transition_state.count('SP') / total_s\n",
    "tp_sv = transition_state.count('SV') / total_s\n",
    "tp_ss = transition_state.count('SS') / total_s\n",
    "\n",
    "transition_probability = np.array([[tp_pp, tp_pv, tp_ps],\n",
    "                                   [tp_vp, tp_vv, tp_vs],\n",
    "                                   [tp_sp, tp_sv, tp_ss]])"
   ]
  },
  {
   "cell_type": "code",
   "execution_count": 8,
   "id": "e01ff37b-736b-4fc7-a4a6-2858ef647e41",
   "metadata": {},
   "outputs": [
    {
     "name": "stdout",
     "output_type": "stream",
     "text": [
      "------------------------\n",
      "Transition probabilities\n",
      "0.7775735294117647 0.20772058823529413 0.014705882352941176\n",
      "0.07804522246535375 0.8541210795040116 0.06783369803063458\n",
      "0.06542056074766354 0.40654205607476634 0.5280373831775701\n"
     ]
    }
   ],
   "source": [
    "print('------------------------')\n",
    "print('Transition probabilities')\n",
    "print(tp_pp, tp_pv, tp_ps)\n",
    "print(tp_vp, tp_vv, tp_vs)\n",
    "print(tp_sp, tp_sv, tp_ss)"
   ]
  },
  {
   "cell_type": "markdown",
   "id": "1c8c1d77-5cb7-4ac9-98f4-13ae7740bcee",
   "metadata": {},
   "source": [
    "### Get Emissions "
   ]
  },
  {
   "cell_type": "code",
   "execution_count": 9,
   "id": "4d1ea83c-a10e-464f-a050-d63e13642fc5",
   "metadata": {},
   "outputs": [
    {
     "name": "stdout",
     "output_type": "stream",
     "text": [
      "2130\n",
      "2130\n"
     ]
    }
   ],
   "source": [
    "temp_events_num = []\n",
    "\n",
    "for event in observed_events:\n",
    "    if event == 'ChangeLaneLeft':\n",
    "        temp_events_num.append(0)\n",
    "    elif event == 'ChangeLaneRight':\n",
    "        temp_events_num.append(1)\n",
    "    elif event == 'Stop':\n",
    "        temp_events_num.append(2)\n",
    "    elif event == 'Go':\n",
    "        temp_events_num.append(3)\n",
    "    elif event == 'Load':\n",
    "        temp_events_num.append(4)\n",
    "    elif event == 'Unload':\n",
    "        temp_events_num.append(5)\n",
    "\n",
    "print(len(observed_states))\n",
    "print(len(temp_events_num))\n",
    "emission = []\n",
    "for i in range(0, total_count):\n",
    "    emission.append(observed_states[i]+str(temp_events_num[i]))   \n",
    "\n",
    "events_num = np.array([temp_events_num]).reshape(-1,1)"
   ]
  },
  {
   "cell_type": "markdown",
   "id": "7d97f857-8cc1-4ffc-98f0-1b7bcee33952",
   "metadata": {},
   "source": [
    "### Get Emission Probabilities"
   ]
  },
  {
   "cell_type": "code",
   "execution_count": 10,
   "id": "7c4c6799-2e1a-47d6-a629-10a72be46467",
   "metadata": {},
   "outputs": [],
   "source": [
    "# emission probabilities\n",
    "# emission probability of passenger to an event X\n",
    "total_ep = emission.count('Passenger0') + emission.count('Passenger1') + emission.count('Passenger2') + emission.count('Passenger3') + emission.count('Passenger4') + emission.count('Passenger5')\n",
    "ep_p0 = emission.count('Passenger0') / total_ep\n",
    "ep_p1 = emission.count('Passenger1') / total_ep\n",
    "ep_p2 = emission.count('Passenger2') / total_ep\n",
    "ep_p3 = emission.count('Passenger3') / total_ep\n",
    "ep_p4 = emission.count('Passenger4') / total_ep\n",
    "ep_p5 = emission.count('Passenger5') / total_ep\n",
    "\n",
    "# emission probability of vehicle to an event X\n",
    "total_ev = emission.count('Vehicle0') + emission.count('Vehicle1') + emission.count('Vehicle2') + emission.count('Vehicle3') + emission.count('Vehicle4') + emission.count('Vehicle5')\n",
    "ep_v0 = emission.count('Vehicle0') / total_ev\n",
    "ep_v1 = emission.count('Vehicle1') / total_ev\n",
    "ep_v2 = emission.count('Vehicle2') / total_ev\n",
    "ep_v3 = emission.count('Vehicle3') / total_ev\n",
    "ep_v4 = emission.count('Vehicle4') / total_ev\n",
    "ep_v5 = emission.count('Vehicle5') / total_ev\n",
    "\n",
    "# emission probability of stoplight to an event X\n",
    "total_es = emission.count('Stoplight0') + emission.count('Stoplight1') + emission.count('Stoplight2') + emission.count('Stoplight3') + emission.count('Stoplight4') + emission.count('Stoplight5')\n",
    "ep_s0 = emission.count('Stoplight0') / total_es\n",
    "ep_s1 = emission.count('Stoplight1') / total_es\n",
    "ep_s2 = emission.count('Stoplight2') / total_es\n",
    "ep_s3 = emission.count('Stoplight3') / total_es\n",
    "ep_s4 = emission.count('Stoplight4') / total_es\n",
    "ep_s5 = emission.count('Stoplight5') / total_es\n",
    "\n",
    "emission_probability = np.array([[ep_p0, ep_p1, ep_p2, ep_p3, ep_p4, ep_p5],\n",
    "                                 [ep_v0, ep_v1, ep_v2, ep_v3, ep_v4, ep_v5],\n",
    "                                 [ep_s0, ep_s1, ep_s2, ep_s3, ep_s4, ep_s5]])"
   ]
  },
  {
   "cell_type": "code",
   "execution_count": 11,
   "id": "69f3302b-2c12-4750-93d2-3fb6dab881ff",
   "metadata": {},
   "outputs": [
    {
     "name": "stdout",
     "output_type": "stream",
     "text": [
      "------------------------\n",
      "Emission probabilities\n",
      "0.0 0.12110091743119267 0.26422018348623855 0.26972477064220185 0.1614678899082569 0.1834862385321101\n",
      "0.47191830780452226 0.4573304157549234 0.034281546316557256 0.03574033552151714 0.0007293946024799417 0.0\n",
      "0.004672897196261682 0.018691588785046728 0.49065420560747663 0.48598130841121495 0.0 0.0\n"
     ]
    }
   ],
   "source": [
    "print('------------------------')\n",
    "print('Emission probabilities')\n",
    "print(ep_p0, ep_p1, ep_p2, ep_p3, ep_p4, ep_p5)\n",
    "print(ep_v0, ep_v1, ep_v2, ep_v3, ep_v4, ep_v5)\n",
    "print(ep_s0, ep_s1, ep_s2, ep_s3, ep_s4, ep_s5)"
   ]
  },
  {
   "cell_type": "markdown",
   "id": "dfb60ac1-7fa8-4b2c-9d8a-4c28a832c035",
   "metadata": {},
   "source": [
    "### Training the HMM Model Using the Calculated Prbbilities"
   ]
  },
  {
   "cell_type": "code",
   "execution_count": 12,
   "id": "c50c0204-2199-42d6-9084-c8a2f584cd6c",
   "metadata": {},
   "outputs": [],
   "source": [
    "model = hmm.CategoricalHMM(n_components=len(states), n_features=len(observations))\n",
    "model.startprob_ = state_probability\n",
    "model.transmat_ = transition_probability\n",
    "model.emissionprob_ = emission_probability"
   ]
  },
  {
   "cell_type": "code",
   "execution_count": 13,
   "id": "11ea2351-be05-4795-80e3-3c670cabaf96",
   "metadata": {},
   "outputs": [
    {
     "name": "stderr",
     "output_type": "stream",
     "text": [
      "Even though the 'startprob_' attribute is set, it will be overwritten during initialization because 'init_params' contains 's'\n",
      "Even though the 'transmat_' attribute is set, it will be overwritten during initialization because 'init_params' contains 't'\n",
      "Even though the 'emissionprob_' attribute is set, it will be overwritten during initialization because 'init_params' contains 'e'\n"
     ]
    },
    {
     "data": {
      "text/html": [
       "<style>#sk-container-id-1 {color: black;}#sk-container-id-1 pre{padding: 0;}#sk-container-id-1 div.sk-toggleable {background-color: white;}#sk-container-id-1 label.sk-toggleable__label {cursor: pointer;display: block;width: 100%;margin-bottom: 0;padding: 0.3em;box-sizing: border-box;text-align: center;}#sk-container-id-1 label.sk-toggleable__label-arrow:before {content: \"▸\";float: left;margin-right: 0.25em;color: #696969;}#sk-container-id-1 label.sk-toggleable__label-arrow:hover:before {color: black;}#sk-container-id-1 div.sk-estimator:hover label.sk-toggleable__label-arrow:before {color: black;}#sk-container-id-1 div.sk-toggleable__content {max-height: 0;max-width: 0;overflow: hidden;text-align: left;background-color: #f0f8ff;}#sk-container-id-1 div.sk-toggleable__content pre {margin: 0.2em;color: black;border-radius: 0.25em;background-color: #f0f8ff;}#sk-container-id-1 input.sk-toggleable__control:checked~div.sk-toggleable__content {max-height: 200px;max-width: 100%;overflow: auto;}#sk-container-id-1 input.sk-toggleable__control:checked~label.sk-toggleable__label-arrow:before {content: \"▾\";}#sk-container-id-1 div.sk-estimator input.sk-toggleable__control:checked~label.sk-toggleable__label {background-color: #d4ebff;}#sk-container-id-1 div.sk-label input.sk-toggleable__control:checked~label.sk-toggleable__label {background-color: #d4ebff;}#sk-container-id-1 input.sk-hidden--visually {border: 0;clip: rect(1px 1px 1px 1px);clip: rect(1px, 1px, 1px, 1px);height: 1px;margin: -1px;overflow: hidden;padding: 0;position: absolute;width: 1px;}#sk-container-id-1 div.sk-estimator {font-family: monospace;background-color: #f0f8ff;border: 1px dotted black;border-radius: 0.25em;box-sizing: border-box;margin-bottom: 0.5em;}#sk-container-id-1 div.sk-estimator:hover {background-color: #d4ebff;}#sk-container-id-1 div.sk-parallel-item::after {content: \"\";width: 100%;border-bottom: 1px solid gray;flex-grow: 1;}#sk-container-id-1 div.sk-label:hover label.sk-toggleable__label {background-color: #d4ebff;}#sk-container-id-1 div.sk-serial::before {content: \"\";position: absolute;border-left: 1px solid gray;box-sizing: border-box;top: 0;bottom: 0;left: 50%;z-index: 0;}#sk-container-id-1 div.sk-serial {display: flex;flex-direction: column;align-items: center;background-color: white;padding-right: 0.2em;padding-left: 0.2em;position: relative;}#sk-container-id-1 div.sk-item {position: relative;z-index: 1;}#sk-container-id-1 div.sk-parallel {display: flex;align-items: stretch;justify-content: center;background-color: white;position: relative;}#sk-container-id-1 div.sk-item::before, #sk-container-id-1 div.sk-parallel-item::before {content: \"\";position: absolute;border-left: 1px solid gray;box-sizing: border-box;top: 0;bottom: 0;left: 50%;z-index: -1;}#sk-container-id-1 div.sk-parallel-item {display: flex;flex-direction: column;z-index: 1;position: relative;background-color: white;}#sk-container-id-1 div.sk-parallel-item:first-child::after {align-self: flex-end;width: 50%;}#sk-container-id-1 div.sk-parallel-item:last-child::after {align-self: flex-start;width: 50%;}#sk-container-id-1 div.sk-parallel-item:only-child::after {width: 0;}#sk-container-id-1 div.sk-dashed-wrapped {border: 1px dashed gray;margin: 0 0.4em 0.5em 0.4em;box-sizing: border-box;padding-bottom: 0.4em;background-color: white;}#sk-container-id-1 div.sk-label label {font-family: monospace;font-weight: bold;display: inline-block;line-height: 1.2em;}#sk-container-id-1 div.sk-label-container {text-align: center;}#sk-container-id-1 div.sk-container {/* jupyter's `normalize.less` sets `[hidden] { display: none; }` but bootstrap.min.css set `[hidden] { display: none !important; }` so we also need the `!important` here to be able to override the default hidden behavior on the sphinx rendered scikit-learn.org. See: https://github.com/scikit-learn/scikit-learn/issues/21755 */display: inline-block !important;position: relative;}#sk-container-id-1 div.sk-text-repr-fallback {display: none;}</style><div id=\"sk-container-id-1\" class=\"sk-top-container\"><div class=\"sk-text-repr-fallback\"><pre>CategoricalHMM(n_components=3, n_features=6,\n",
       "               random_state=RandomState(MT19937) at 0x1F9738EED40)</pre><b>In a Jupyter environment, please rerun this cell to show the HTML representation or trust the notebook. <br />On GitHub, the HTML representation is unable to render, please try loading this page with nbviewer.org.</b></div><div class=\"sk-container\" hidden><div class=\"sk-item\"><div class=\"sk-estimator sk-toggleable\"><input class=\"sk-toggleable__control sk-hidden--visually\" id=\"sk-estimator-id-1\" type=\"checkbox\" checked><label for=\"sk-estimator-id-1\" class=\"sk-toggleable__label sk-toggleable__label-arrow\">CategoricalHMM</label><div class=\"sk-toggleable__content\"><pre>CategoricalHMM(n_components=3, n_features=6,\n",
       "               random_state=RandomState(MT19937) at 0x1F9738EED40)</pre></div></div></div></div></div>"
      ],
      "text/plain": [
       "CategoricalHMM(n_components=3, n_features=6,\n",
       "               random_state=RandomState(MT19937) at 0x1F9738EED40)"
      ]
     },
     "execution_count": 13,
     "metadata": {},
     "output_type": "execute_result"
    }
   ],
   "source": [
    "model.fit(events_num)"
   ]
  },
  {
   "cell_type": "code",
   "execution_count": 14,
   "id": "9fd0eefe-c575-421e-ad54-ae5a26e3d0b4",
   "metadata": {},
   "outputs": [
    {
     "name": "stdout",
     "output_type": "stream",
     "text": [
      "Most likely hidden states: [0 2 1 ... 2 1 2]\n"
     ]
    }
   ],
   "source": [
    "log_probability, hidden_states = model.decode(events_num)\n",
    "hidden_states = model.predict(events_num)\n",
    "print(\"Most likely hidden states:\", hidden_states)"
   ]
  },
  {
   "cell_type": "code",
   "execution_count": 15,
   "id": "4c2c54d8-3436-489c-881e-622cc6473851",
   "metadata": {},
   "outputs": [
    {
     "name": "stdout",
     "output_type": "stream",
     "text": [
      "0: 247\n",
      "2: 932\n",
      "1: 951\n"
     ]
    }
   ],
   "source": [
    "element_counts = {}\n",
    "\n",
    "for element in hidden_states:\n",
    "    if element in element_counts:\n",
    "        element_counts[element] += 1\n",
    "    else:\n",
    "        element_counts[element] = 1\n",
    "\n",
    "# Print the counts\n",
    "for element, count in element_counts.items():\n",
    "    print(f\"{element}: {count}\")"
   ]
  },
  {
   "cell_type": "markdown",
   "id": "84efba9f-0ca8-4eb9-84c3-650f72dd0993",
   "metadata": {},
   "source": [
    "### Getting the Log-Likelihood Score of the Model"
   ]
  },
  {
   "cell_type": "code",
   "execution_count": 16,
   "id": "bb5c300d-5718-45f8-b607-da91d5711b6d",
   "metadata": {},
   "outputs": [
    {
     "data": {
      "text/plain": [
       "-3112.9795782720657"
      ]
     },
     "execution_count": 16,
     "metadata": {},
     "output_type": "execute_result"
    }
   ],
   "source": [
    "log_likelihood = model.score(events_num)\n",
    "log_likelihood"
   ]
  },
  {
   "cell_type": "code",
   "execution_count": null,
   "id": "6016bff4-90f8-4389-9c88-fa3b43820163",
   "metadata": {},
   "outputs": [],
   "source": []
  }
 ],
 "metadata": {
  "kernelspec": {
   "display_name": "Python 3 (ipykernel)",
   "language": "python",
   "name": "python3"
  },
  "language_info": {
   "codemirror_mode": {
    "name": "ipython",
    "version": 3
   },
   "file_extension": ".py",
   "mimetype": "text/x-python",
   "name": "python",
   "nbconvert_exporter": "python",
   "pygments_lexer": "ipython3",
   "version": "3.11.5"
  }
 },
 "nbformat": 4,
 "nbformat_minor": 5
}
